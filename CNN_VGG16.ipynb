{
  "nbformat": 4,
  "nbformat_minor": 0,
  "metadata": {
    "colab": {
      "name": "CNN.ipynb",
      "version": "0.3.2",
      "provenance": [],
      "private_outputs": true,
      "collapsed_sections": []
    },
    "kernelspec": {
      "name": "python3",
      "display_name": "Python 3"
    },
    "accelerator": "GPU"
  },
  "cells": [
    {
      "cell_type": "code",
      "metadata": {
        "id": "xTnCMaXK7Evl",
        "colab_type": "code",
        "colab": {}
      },
      "source": [
        "!pip install tensorflow-gpu"
      ],
      "execution_count": 0,
      "outputs": []
    },
    {
      "cell_type": "code",
      "metadata": {
        "id": "-vV5aotvCmik",
        "colab_type": "code",
        "colab": {}
      },
      "source": [
        "from google.colab import drive\n",
        "drive.mount('/content/drive/')"
      ],
      "execution_count": 0,
      "outputs": []
    },
    {
      "cell_type": "code",
      "metadata": {
        "id": "Dp8By48mM0-W",
        "colab_type": "code",
        "colab": {}
      },
      "source": [
        "\n",
        "!pip install easycolab"
      ],
      "execution_count": 0,
      "outputs": []
    },
    {
      "cell_type": "code",
      "metadata": {
        "id": "4Na3yNadOqwV",
        "colab_type": "code",
        "colab": {}
      },
      "source": [
        "import easycolab as ec\n",
        "ec.mount()"
      ],
      "execution_count": 0,
      "outputs": []
    },
    {
      "cell_type": "code",
      "metadata": {
        "id": "ZTgP9oc6RO1s",
        "colab_type": "code",
        "colab": {}
      },
      "source": [
        "import numpy as np\n",
        "import matplotlib.pyplot as plt\n",
        "import tensorflow as tf\n",
        "import cv2\n",
        "import glob\n",
        "from tensorflow.keras.applications.vgg16 import preprocess_input"
      ],
      "execution_count": 0,
      "outputs": []
    },
    {
      "cell_type": "code",
      "metadata": {
        "id": "AC649pVFRb5U",
        "colab_type": "code",
        "colab": {}
      },
      "source": [
        "directory = glob.glob(\"/content/gdrive/My Drive/Image_retrival/images/*\")\n",
        "images = []\n",
        "for path in directory:\n",
        "  print(path)\n",
        "  img = cv2.imread(path)\n",
        "  img = np.array(img,np.float64)\n",
        "  img = cv2.resize(img,(128,86))\n",
        "  img = np.expand_dims(img,axis=0)\n",
        "  img = preprocess_input(img)\n",
        "  images.append(img)"
      ],
      "execution_count": 0,
      "outputs": []
    },
    {
      "cell_type": "code",
      "metadata": {
        "id": "PFdFGhMuUDj4",
        "colab_type": "code",
        "colab": {}
      },
      "source": [
        "from tensorflow import keras\n",
        "def blocks_2(filters):\n",
        "    seq = keras.Sequential()\n",
        "    seq.add(keras.layers.Conv2D(filters,(3,3), activation='relu',padding='same'))\n",
        "    seq.add(keras.layers.Conv2D(filters,(3,3),activation='relu',padding='same'))\n",
        "    seq.add(keras.layers.MaxPooling2D(pool_size=(2,2),strides=(2,2)))\n",
        "    return seq\n",
        "def blocks_3(filters):\n",
        "    seq = keras.Sequential()\n",
        "    seq.add(keras.layers.Conv2D(filters,(3,3),activation='relu',padding='same'))\n",
        "    seq.add(keras.layers.Conv2D(filters,(3,3),activation='relu',padding='same'))\n",
        "    seq.add(keras.layers.Conv2D(filters,(3,3),activation='relu',padding='same'))\n",
        "    seq.add(keras.layers.MaxPooling2D(pool_size=(2,2),strides=(2,2)))\n",
        "    return seq\n",
        "\n",
        "def VGG16():\n",
        "    model = keras.Sequential()\n",
        "    #block 1\n",
        "    model.add(keras.layers.Conv2D(64,(3,3),input_shape = (86,128,3),padding = 'same',activation = 'relu')) \n",
        "    model.add(keras.layers.Conv2D(64,(3,3),activation='relu',padding='same'))\n",
        "    model.add(keras.layers.MaxPooling2D(pool_size=(2,2),strides=(2,2)))\n",
        "    #block 2\n",
        "    model.add(blocks_2(128))\n",
        "    model.add(blocks_3(256))\n",
        "    model.add(blocks_3(512))\n",
        "    model.add(blocks_3(512))\n",
        "    model.add(keras.layers.Flatten())\n",
        "    model.add(keras.layers.Dense(4096,activation='relu'))\n",
        "    model.add(keras.layers.Dense(100,activation='relu'))\n",
        "    #model.add(keras.layers.Activation('softmax'))\n",
        "#     sgd = keras.optimizers.SGD(lr=0.0005,decay=0,nesterov=True)\n",
        "#     model.compile(loss='categorical_crossentropy',optimizer=sgd,metrics=['accuracy'])\n",
        "    return model\n",
        "net = VGG16()\n",
        "net.summary()"
      ],
      "execution_count": 0,
      "outputs": []
    },
    {
      "cell_type": "code",
      "metadata": {
        "id": "YGN00AqTY-6W",
        "colab_type": "code",
        "colab": {}
      },
      "source": [
        "query = cv2.imread('/content/gdrive/My Drive/Image_retrival/query_1.jpg')\n",
        "query = np.array(query,np.float64)\n",
        "query = cv2.resize(query,(128,86))\n",
        "query_np = np.expand_dims(query,axis=0)\n",
        "query_np = preprocess_input(query_np)"
      ],
      "execution_count": 0,
      "outputs": []
    },
    {
      "cell_type": "markdown",
      "metadata": {
        "id": "uvE6flm20Jta",
        "colab_type": "text"
      },
      "source": [
        ""
      ]
    },
    {
      "cell_type": "code",
      "metadata": {
        "id": "bFOwp-Ina0Ze",
        "colab_type": "code",
        "colab": {}
      },
      "source": [
        "images = np.array(images).squeeze()\n",
        "predict_query = net.predict(query_np)\n",
        "predict_images_retrival =  net.predict(images)\n",
        "print(predict_images_retrival.shape)"
      ],
      "execution_count": 0,
      "outputs": []
    },
    {
      "cell_type": "code",
      "metadata": {
        "id": "nYLXxskWbELc",
        "colab_type": "code",
        "colab": {}
      },
      "source": [
        "from sklearn.metrics.pairwise import cosine_similarity\n",
        "pred_query  = np.reshape(predict_query,  (1, -1))\n",
        "pred_images = np.reshape(predict_images_retrival, (predict_images_retrival.shape[0], -1))"
      ],
      "execution_count": 0,
      "outputs": []
    },
    {
      "cell_type": "code",
      "metadata": {
        "id": "nN4gejxmbIwk",
        "colab_type": "code",
        "colab": {}
      },
      "source": [
        "\n",
        "def getKey(item):\n",
        "    return item[0]\n",
        "sim = cosine_similarity(pred_query, pred_images).squeeze()\n",
        "image_response = [path for path in directory]\n",
        "print(len(image_response))\n",
        "tp = zip(sim.tolist(),image_response)\n",
        "tp_s = sorted(tp, key=getKey, reverse=True)\n",
        "img = cv2.imread('/content/gdrive/My Drive/Image_retrival/query_1.jpg')\n",
        "#img = cv2.resize(img,(30,30))\n",
        "img = cv2.cvtColor(img,cv2.COLOR_BGR2RGB)\n",
        "plt.imshow(img)\n",
        "plt.xlabel(\"Query\")\n",
        "plt.figure(figsize=(10,10))\n",
        "for i in range(25):\n",
        "    img = cv2.imread(tp_s[i][1])\n",
        "    img = cv2.cvtColor(img,cv2.COLOR_BGR2RGB)\n",
        "    plt.subplot(5,5,i+1)\n",
        "    plt.xticks([])\n",
        "    plt.yticks([])\n",
        "    plt.grid(False)\n",
        "    plt.imshow(img)\n",
        "    score = round(tp_s[i][0],5)\n",
        "    plt.xlabel(\"score : \" + str(score))\n",
        "plt.show()\n"
      ],
      "execution_count": 0,
      "outputs": []
    },
    {
      "cell_type": "code",
      "metadata": {
        "id": "TpxD5H8o7Yqm",
        "colab_type": "code",
        "colab": {}
      },
      "source": [
        ""
      ],
      "execution_count": 0,
      "outputs": []
    }
  ]
}